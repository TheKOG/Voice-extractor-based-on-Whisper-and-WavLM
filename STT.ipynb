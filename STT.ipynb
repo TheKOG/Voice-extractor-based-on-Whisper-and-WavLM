{
 "cells": [
  {
   "cell_type": "code",
   "execution_count": 1,
   "metadata": {},
   "outputs": [],
   "source": [
    "import stable_whisper\n",
    "import pickle\n",
    "from tqdm import tqdm"
   ]
  },
  {
   "cell_type": "code",
   "execution_count": 2,
   "metadata": {},
   "outputs": [],
   "source": [
    "class CFG:\n",
    "    pth=\"./wav/Tamako.wav\"\n",
    "    save_folder='slices'\n",
    "    list_file='list.txt'\n",
    "    pkl_file='data.pkl'\n",
    "    tmp_folder='./tmp'\n",
    "    min_len=0.5\n",
    "    max_len=10.5\n",
    "    period=60\n",
    "    RATE=16000\n",
    "    language='Japanese'"
   ]
  },
  {
   "cell_type": "code",
   "execution_count": 3,
   "metadata": {},
   "outputs": [],
   "source": [
    "import torchaudio\n",
    "def Cut_Slices(result,p,f_list,filename=CFG.pth):\n",
    "    global tot\n",
    "    waveform,sample_rate = torchaudio.load(filename)\n",
    "    data_=waveform[0]\n",
    "    tot_size=len(data_)\n",
    "    for item in result:\n",
    "        if(item['no_speech_prob']>=0.5):\n",
    "            continue\n",
    "        data=data_[int((item['start'])*sample_rate):min(int((item['end'])*sample_rate),tot_size)]\n",
    "        if(len(data)<int(CFG.min_len*sample_rate) or len(data)>int(CFG.max_len*sample_rate)):\n",
    "            continue\n",
    "        tot+=1\n",
    "        torchaudio.save(CFG.save_folder+'/{}.wav'.format(tot),data.view(1,-1),sample_rate)\n",
    "        # f_list.write('id={},peroid={}, {} to {}:'.format(tot,p,round(item['start'],1),round(item['end'],1))+item['text']+'\\n')\n",
    "        f_list.write('{}:'.format(tot)+item['text']+'\\n')\n",
    "        # if(tot==1191):\n",
    "        #     print(item)\n",
    "        \n",
    "        "
   ]
  },
  {
   "cell_type": "code",
   "execution_count": 4,
   "metadata": {},
   "outputs": [],
   "source": [
    "ptr=0\n",
    "_,sample_rate = torchaudio.load(CFG.pth)\n",
    "_=_[0]\n",
    "tot_size=len(_)\n",
    "psum=int(tot_size/(CFG.period*sample_rate)+1)"
   ]
  },
  {
   "cell_type": "code",
   "execution_count": 6,
   "metadata": {},
   "outputs": [
    {
     "name": "stderr",
     "output_type": "stream",
     "text": [
      "100%|██████████| 6000/6000 [00:28<00:00, 210.90frames/s]\n",
      "100%|██████████| 6000/6000 [01:07<00:00, 88.94frames/s]\n",
      "100%|██████████| 6000/6000 [01:20<00:00, 74.41frames/s]\n",
      "100%|██████████| 6000/6000 [00:19<00:00, 308.57frames/s]\n",
      "100%|██████████| 6000/6000 [00:22<00:00, 271.11frames/s]\n",
      "100%|██████████| 6000/6000 [00:09<00:00, 640.60frames/s]\n",
      "100%|██████████| 6000/6000 [00:32<00:00, 185.45frames/s]\n",
      "100%|██████████| 6000/6000 [00:33<00:00, 177.97frames/s]\n",
      "100%|██████████| 6000/6000 [00:15<00:00, 393.17frames/s]\n",
      "100%|██████████| 6000/6000 [00:10<00:00, 566.76frames/s]\n",
      "100%|██████████| 6000/6000 [00:38<00:00, 153.94frames/s]\n",
      "100%|██████████| 6000/6000 [00:20<00:00, 293.74frames/s]\n",
      "100%|██████████| 6000/6000 [00:21<00:00, 279.49frames/s]\n",
      "100%|██████████| 6000/6000 [00:19<00:00, 303.31frames/s]\n",
      "100%|██████████| 6000/6000 [00:16<00:00, 360.55frames/s]\n",
      "100%|██████████| 6000/6000 [00:22<00:00, 263.41frames/s]\n",
      "100%|██████████| 6000/6000 [00:17<00:00, 338.03frames/s]\n",
      "100%|██████████| 6000/6000 [00:48<00:00, 122.75frames/s]\n",
      "100%|██████████| 6000/6000 [00:15<00:00, 385.80frames/s]\n",
      "100%|██████████| 6000/6000 [00:09<00:00, 641.69frames/s]\n",
      "100%|██████████| 6000/6000 [00:17<00:00, 334.82frames/s]\n",
      "100%|██████████| 6000/6000 [00:18<00:00, 319.40frames/s]\n",
      "100%|██████████| 6000/6000 [00:23<00:00, 259.07frames/s]\n",
      "100%|██████████| 6000/6000 [00:16<00:00, 367.25frames/s]\n",
      "100%|██████████| 6000/6000 [00:22<00:00, 260.92frames/s]\n",
      "100%|██████████| 6000/6000 [00:12<00:00, 486.23frames/s]\n",
      "100%|██████████| 6000/6000 [00:21<00:00, 283.94frames/s]\n",
      "100%|██████████| 6000/6000 [00:18<00:00, 318.46frames/s]\n",
      "100%|██████████| 6000/6000 [00:18<00:00, 320.74frames/s]\n",
      "100%|██████████| 6000/6000 [00:16<00:00, 356.77frames/s]\n",
      "100%|██████████| 6000/6000 [00:14<00:00, 409.82frames/s]\n",
      "100%|██████████| 6000/6000 [00:17<00:00, 343.82frames/s]\n",
      "100%|██████████| 6000/6000 [00:15<00:00, 384.00frames/s]\n",
      "100%|██████████| 6000/6000 [00:15<00:00, 390.80frames/s]\n",
      "100%|██████████| 6000/6000 [00:16<00:00, 358.04frames/s]\n",
      "100%|██████████| 6000/6000 [00:12<00:00, 495.36frames/s]\n",
      "100%|██████████| 6000/6000 [00:18<00:00, 316.32frames/s]\n",
      "100%|██████████| 6000/6000 [00:29<00:00, 202.72frames/s]\n",
      "100%|██████████| 6000/6000 [00:14<00:00, 417.30frames/s]\n",
      "100%|██████████| 6000/6000 [00:17<00:00, 333.77frames/s]\n",
      "100%|██████████| 6000/6000 [00:28<00:00, 209.36frames/s]\n",
      "100%|██████████| 6000/6000 [00:15<00:00, 398.40frames/s]\n",
      "100%|██████████| 6000/6000 [00:18<00:00, 316.88frames/s]\n",
      "100%|██████████| 6000/6000 [00:19<00:00, 314.57frames/s]\n",
      "100%|██████████| 6000/6000 [00:17<00:00, 351.56frames/s]\n",
      "100%|██████████| 6000/6000 [00:19<00:00, 311.10frames/s]\n",
      "100%|██████████| 6000/6000 [00:13<00:00, 444.87frames/s]\n",
      "100%|██████████| 6000/6000 [00:13<00:00, 452.88frames/s]\n",
      "100%|██████████| 6000/6000 [00:24<00:00, 249.71frames/s]\n",
      "100%|██████████| 6000/6000 [00:09<00:00, 655.78frames/s]\n",
      "100%|██████████| 6000/6000 [00:15<00:00, 396.61frames/s]\n",
      "100%|██████████| 6000/6000 [00:14<00:00, 419.73frames/s]\n",
      "100%|██████████| 6000/6000 [00:17<00:00, 341.64frames/s]\n",
      "100%|██████████| 6000/6000 [00:16<00:00, 355.28frames/s]\n",
      "100%|██████████| 6000/6000 [00:19<00:00, 315.06frames/s]\n",
      "100%|██████████| 6000/6000 [00:17<00:00, 336.70frames/s]\n",
      "100%|██████████| 6000/6000 [00:15<00:00, 385.65frames/s]\n",
      "100%|██████████| 6000/6000 [00:11<00:00, 502.96frames/s]\n",
      "100%|██████████| 6000/6000 [00:19<00:00, 314.41frames/s]\n",
      "100%|██████████| 6000/6000 [00:17<00:00, 334.12frames/s]\n",
      "100%|██████████| 6000/6000 [00:19<00:00, 313.60frames/s]\n",
      "100%|██████████| 6000/6000 [00:20<00:00, 295.95frames/s]\n",
      "100%|██████████| 6000/6000 [00:18<00:00, 321.97frames/s]\n",
      "100%|██████████| 6000/6000 [00:17<00:00, 346.37frames/s]\n",
      "100%|██████████| 6000/6000 [00:20<00:00, 297.83frames/s]\n",
      "100%|██████████| 6000/6000 [00:15<00:00, 389.33frames/s]\n",
      "100%|██████████| 6000/6000 [00:19<00:00, 313.85frames/s]\n",
      "100%|██████████| 6000/6000 [00:40<00:00, 146.97frames/s]\n",
      "100%|██████████| 6000/6000 [00:30<00:00, 195.10frames/s]\n",
      "100%|██████████| 6000/6000 [00:17<00:00, 339.78frames/s]\n",
      "100%|██████████| 6000/6000 [00:18<00:00, 325.98frames/s]\n",
      " 69%|██████▉   | 4128/6000 [00:25<00:11, 159.37frames/s]\n",
      "100%|██████████| 6000/6000 [00:36<00:00, 166.11frames/s]\n",
      "100%|██████████| 6000/6000 [00:14<00:00, 408.48frames/s]\n",
      "100%|██████████| 6000/6000 [00:15<00:00, 386.20frames/s]\n",
      "100%|██████████| 6000/6000 [00:19<00:00, 307.45frames/s]\n",
      "100%|██████████| 6000/6000 [00:16<00:00, 374.50frames/s]\n",
      " 88%|████████▊ | 5278/6000 [01:15<00:10, 70.32frames/s]\n",
      "100%|██████████| 6000/6000 [00:33<00:00, 177.30frames/s]\n",
      "100%|██████████| 6000/6000 [01:11<00:00, 84.49frames/s]\n",
      "100%|██████████| 6000/6000 [00:07<00:00, 830.68frames/s]\n",
      "100%|██████████| 6000/6000 [00:10<00:00, 549.98frames/s]\n",
      "100%|██████████| 6000/6000 [00:16<00:00, 374.43frames/s]\n",
      "100%|██████████| 5212/5212 [00:16<00:00, 322.08frames/s]\n",
      "100%|██████████| 84/84 [31:11<00:00, 22.28s/it]\n"
     ]
    }
   ],
   "source": [
    "model = stable_whisper.load_model(\"medium\")\n",
    "for i in tqdm(range(int(tot_size/(CFG.period*sample_rate)+1))):\n",
    "    if(ptr>=tot_size):\n",
    "        break\n",
    "    data=_[ptr:min(ptr+CFG.period*sample_rate,tot_size)]\n",
    "    ptr+=CFG.period*sample_rate\n",
    "    save_pth=CFG.tmp_folder+'/{}.wav'.format(i+1)\n",
    "    torchaudio.save(save_pth.format(psum),data.view(1,-1),sample_rate)\n",
    "    result = model.transcribe(save_pth,language=CFG.language,print_unstab=False)\n",
    "    f = open(CFG.tmp_folder+'/{}.pkl'.format(i+1),'wb')\n",
    "    data= pickle.dump(result,f,-1)\n",
    "    f.close()\n",
    "    "
   ]
  },
  {
   "cell_type": "code",
   "execution_count": 5,
   "metadata": {},
   "outputs": [
    {
     "name": "stderr",
     "output_type": "stream",
     "text": [
      "100%|██████████| 84/84 [00:05<00:00, 15.62it/s]\n"
     ]
    }
   ],
   "source": [
    "f_list=open(CFG.list_file,'w',encoding='utf-8')\n",
    "tot=0\n",
    "for i in tqdm(range(psum)):\n",
    "    pkl_pth=CFG.tmp_folder+'/{}.pkl'.format(i+1)\n",
    "    wav_pth=CFG.tmp_folder+'/{}.wav'.format(i+1)\n",
    "    f = open(pkl_pth,'rb')\n",
    "    result=pickle.load(f)\n",
    "    result=result['segments']\n",
    "    f.close()\n",
    "    Cut_Slices(result,i+1,f_list,wav_pth)\n",
    "f_list.close()"
   ]
  }
 ],
 "metadata": {
  "kernelspec": {
   "display_name": "Python 3",
   "language": "python",
   "name": "python3"
  },
  "language_info": {
   "codemirror_mode": {
    "name": "ipython",
    "version": 3
   },
   "file_extension": ".py",
   "mimetype": "text/x-python",
   "name": "python",
   "nbconvert_exporter": "python",
   "pygments_lexer": "ipython3",
   "version": "3.8.7"
  },
  "orig_nbformat": 4,
  "vscode": {
   "interpreter": {
    "hash": "3791a47348c2704d85b6abcab0f16aa85fb80860f783c67628ddd43e9bf228ea"
   }
  }
 },
 "nbformat": 4,
 "nbformat_minor": 2
}
